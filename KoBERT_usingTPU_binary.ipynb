{
  "nbformat": 4,
  "nbformat_minor": 0,
  "metadata": {
    "kernelspec": {
      "display_name": "Python 3",
      "language": "python",
      "name": "python3"
    },
    "language_info": {
      "codemirror_mode": {
        "name": "ipython",
        "version": 3
      },
      "file_extension": ".py",
      "mimetype": "text/x-python",
      "name": "python",
      "nbconvert_exporter": "python",
      "pygments_lexer": "ipython3",
      "version": "3.6.9"
    },
    "colab": {
      "name": "KoBERT_usingTPU_binary.ipynb",
      "provenance": [],
      "collapsed_sections": [],
      "include_colab_link": true
    },
    "accelerator": "TPU",
    "widgets": {
      "application/vnd.jupyter.widget-state+json": {
        "69978cd4f5d74eca8546688d20a2f0d6": {
          "model_module": "@jupyter-widgets/controls",
          "model_name": "HBoxModel",
          "state": {
            "_view_name": "HBoxView",
            "_dom_classes": [],
            "_model_name": "HBoxModel",
            "_view_module": "@jupyter-widgets/controls",
            "_model_module_version": "1.5.0",
            "_view_count": null,
            "_view_module_version": "1.5.0",
            "box_style": "",
            "layout": "IPY_MODEL_128a7556f91848dcb631240b0ae2e07b",
            "_model_module": "@jupyter-widgets/controls",
            "children": [
              "IPY_MODEL_c6cb548d8d114e2cb358178136e58211",
              "IPY_MODEL_59d2acbda5ce46479e906923eb09b515"
            ]
          }
        },
        "128a7556f91848dcb631240b0ae2e07b": {
          "model_module": "@jupyter-widgets/base",
          "model_name": "LayoutModel",
          "state": {
            "_view_name": "LayoutView",
            "grid_template_rows": null,
            "right": null,
            "justify_content": null,
            "_view_module": "@jupyter-widgets/base",
            "overflow": null,
            "_model_module_version": "1.2.0",
            "_view_count": null,
            "flex_flow": null,
            "width": null,
            "min_width": null,
            "border": null,
            "align_items": null,
            "bottom": null,
            "_model_module": "@jupyter-widgets/base",
            "top": null,
            "grid_column": null,
            "overflow_y": null,
            "overflow_x": null,
            "grid_auto_flow": null,
            "grid_area": null,
            "grid_template_columns": null,
            "flex": null,
            "_model_name": "LayoutModel",
            "justify_items": null,
            "grid_row": null,
            "max_height": null,
            "align_content": null,
            "visibility": null,
            "align_self": null,
            "height": null,
            "min_height": null,
            "padding": null,
            "grid_auto_rows": null,
            "grid_gap": null,
            "max_width": null,
            "order": null,
            "_view_module_version": "1.2.0",
            "grid_template_areas": null,
            "object_position": null,
            "object_fit": null,
            "grid_auto_columns": null,
            "margin": null,
            "display": null,
            "left": null
          }
        },
        "c6cb548d8d114e2cb358178136e58211": {
          "model_module": "@jupyter-widgets/controls",
          "model_name": "FloatProgressModel",
          "state": {
            "_view_name": "ProgressView",
            "style": "IPY_MODEL_8761157329494c2387495152c514f005",
            "_dom_classes": [],
            "description": "100%",
            "_model_name": "FloatProgressModel",
            "bar_style": "success",
            "max": 750,
            "_view_module": "@jupyter-widgets/controls",
            "_model_module_version": "1.5.0",
            "value": 750,
            "_view_count": null,
            "_view_module_version": "1.5.0",
            "orientation": "horizontal",
            "min": 0,
            "description_tooltip": null,
            "_model_module": "@jupyter-widgets/controls",
            "layout": "IPY_MODEL_4e9e7fbc982f45c885c1a63a3e165d1c"
          }
        },
        "59d2acbda5ce46479e906923eb09b515": {
          "model_module": "@jupyter-widgets/controls",
          "model_name": "HTMLModel",
          "state": {
            "_view_name": "HTMLView",
            "style": "IPY_MODEL_d2b47cb2a4f54b12b1279a90fac37b40",
            "_dom_classes": [],
            "description": "",
            "_model_name": "HTMLModel",
            "placeholder": "​",
            "_view_module": "@jupyter-widgets/controls",
            "_model_module_version": "1.5.0",
            "value": " 750/750 [29:56&lt;00:00,  2.39s/it]",
            "_view_count": null,
            "_view_module_version": "1.5.0",
            "description_tooltip": null,
            "_model_module": "@jupyter-widgets/controls",
            "layout": "IPY_MODEL_c4a2c87f446d46d7a3a6d3c218072487"
          }
        },
        "8761157329494c2387495152c514f005": {
          "model_module": "@jupyter-widgets/controls",
          "model_name": "ProgressStyleModel",
          "state": {
            "_view_name": "StyleView",
            "_model_name": "ProgressStyleModel",
            "description_width": "initial",
            "_view_module": "@jupyter-widgets/base",
            "_model_module_version": "1.5.0",
            "_view_count": null,
            "_view_module_version": "1.2.0",
            "bar_color": null,
            "_model_module": "@jupyter-widgets/controls"
          }
        },
        "4e9e7fbc982f45c885c1a63a3e165d1c": {
          "model_module": "@jupyter-widgets/base",
          "model_name": "LayoutModel",
          "state": {
            "_view_name": "LayoutView",
            "grid_template_rows": null,
            "right": null,
            "justify_content": null,
            "_view_module": "@jupyter-widgets/base",
            "overflow": null,
            "_model_module_version": "1.2.0",
            "_view_count": null,
            "flex_flow": null,
            "width": null,
            "min_width": null,
            "border": null,
            "align_items": null,
            "bottom": null,
            "_model_module": "@jupyter-widgets/base",
            "top": null,
            "grid_column": null,
            "overflow_y": null,
            "overflow_x": null,
            "grid_auto_flow": null,
            "grid_area": null,
            "grid_template_columns": null,
            "flex": null,
            "_model_name": "LayoutModel",
            "justify_items": null,
            "grid_row": null,
            "max_height": null,
            "align_content": null,
            "visibility": null,
            "align_self": null,
            "height": null,
            "min_height": null,
            "padding": null,
            "grid_auto_rows": null,
            "grid_gap": null,
            "max_width": null,
            "order": null,
            "_view_module_version": "1.2.0",
            "grid_template_areas": null,
            "object_position": null,
            "object_fit": null,
            "grid_auto_columns": null,
            "margin": null,
            "display": null,
            "left": null
          }
        },
        "d2b47cb2a4f54b12b1279a90fac37b40": {
          "model_module": "@jupyter-widgets/controls",
          "model_name": "DescriptionStyleModel",
          "state": {
            "_view_name": "StyleView",
            "_model_name": "DescriptionStyleModel",
            "description_width": "",
            "_view_module": "@jupyter-widgets/base",
            "_model_module_version": "1.5.0",
            "_view_count": null,
            "_view_module_version": "1.2.0",
            "_model_module": "@jupyter-widgets/controls"
          }
        },
        "c4a2c87f446d46d7a3a6d3c218072487": {
          "model_module": "@jupyter-widgets/base",
          "model_name": "LayoutModel",
          "state": {
            "_view_name": "LayoutView",
            "grid_template_rows": null,
            "right": null,
            "justify_content": null,
            "_view_module": "@jupyter-widgets/base",
            "overflow": null,
            "_model_module_version": "1.2.0",
            "_view_count": null,
            "flex_flow": null,
            "width": null,
            "min_width": null,
            "border": null,
            "align_items": null,
            "bottom": null,
            "_model_module": "@jupyter-widgets/base",
            "top": null,
            "grid_column": null,
            "overflow_y": null,
            "overflow_x": null,
            "grid_auto_flow": null,
            "grid_area": null,
            "grid_template_columns": null,
            "flex": null,
            "_model_name": "LayoutModel",
            "justify_items": null,
            "grid_row": null,
            "max_height": null,
            "align_content": null,
            "visibility": null,
            "align_self": null,
            "height": null,
            "min_height": null,
            "padding": null,
            "grid_auto_rows": null,
            "grid_gap": null,
            "max_width": null,
            "order": null,
            "_view_module_version": "1.2.0",
            "grid_template_areas": null,
            "object_position": null,
            "object_fit": null,
            "grid_auto_columns": null,
            "margin": null,
            "display": null,
            "left": null
          }
        },
        "8400edc3c5144720be3785087a0dee53": {
          "model_module": "@jupyter-widgets/controls",
          "model_name": "HBoxModel",
          "state": {
            "_view_name": "HBoxView",
            "_dom_classes": [],
            "_model_name": "HBoxModel",
            "_view_module": "@jupyter-widgets/controls",
            "_model_module_version": "1.5.0",
            "_view_count": null,
            "_view_module_version": "1.5.0",
            "box_style": "",
            "layout": "IPY_MODEL_21aada11ae1744fcbd1004f0ee36045a",
            "_model_module": "@jupyter-widgets/controls",
            "children": [
              "IPY_MODEL_e4caef0902c9404682a6a0e31276aca2",
              "IPY_MODEL_b194c26b295d4428bf4a0b4330fe97c2"
            ]
          }
        },
        "21aada11ae1744fcbd1004f0ee36045a": {
          "model_module": "@jupyter-widgets/base",
          "model_name": "LayoutModel",
          "state": {
            "_view_name": "LayoutView",
            "grid_template_rows": null,
            "right": null,
            "justify_content": null,
            "_view_module": "@jupyter-widgets/base",
            "overflow": null,
            "_model_module_version": "1.2.0",
            "_view_count": null,
            "flex_flow": null,
            "width": null,
            "min_width": null,
            "border": null,
            "align_items": null,
            "bottom": null,
            "_model_module": "@jupyter-widgets/base",
            "top": null,
            "grid_column": null,
            "overflow_y": null,
            "overflow_x": null,
            "grid_auto_flow": null,
            "grid_area": null,
            "grid_template_columns": null,
            "flex": null,
            "_model_name": "LayoutModel",
            "justify_items": null,
            "grid_row": null,
            "max_height": null,
            "align_content": null,
            "visibility": null,
            "align_self": null,
            "height": null,
            "min_height": null,
            "padding": null,
            "grid_auto_rows": null,
            "grid_gap": null,
            "max_width": null,
            "order": null,
            "_view_module_version": "1.2.0",
            "grid_template_areas": null,
            "object_position": null,
            "object_fit": null,
            "grid_auto_columns": null,
            "margin": null,
            "display": null,
            "left": null
          }
        },
        "e4caef0902c9404682a6a0e31276aca2": {
          "model_module": "@jupyter-widgets/controls",
          "model_name": "FloatProgressModel",
          "state": {
            "_view_name": "ProgressView",
            "style": "IPY_MODEL_0f2817789c894e6e876425dceec7bac8",
            "_dom_classes": [],
            "description": "100%",
            "_model_name": "FloatProgressModel",
            "bar_style": "success",
            "max": 250,
            "_view_module": "@jupyter-widgets/controls",
            "_model_module_version": "1.5.0",
            "value": 250,
            "_view_count": null,
            "_view_module_version": "1.5.0",
            "orientation": "horizontal",
            "min": 0,
            "description_tooltip": null,
            "_model_module": "@jupyter-widgets/controls",
            "layout": "IPY_MODEL_fa4ec1b08b174315a418f7496402cc06"
          }
        },
        "b194c26b295d4428bf4a0b4330fe97c2": {
          "model_module": "@jupyter-widgets/controls",
          "model_name": "HTMLModel",
          "state": {
            "_view_name": "HTMLView",
            "style": "IPY_MODEL_5ce2bffc875b445ea2de32510c686582",
            "_dom_classes": [],
            "description": "",
            "_model_name": "HTMLModel",
            "placeholder": "​",
            "_view_module": "@jupyter-widgets/controls",
            "_model_module_version": "1.5.0",
            "value": " 250/250 [26:46&lt;00:00,  6.43s/it]",
            "_view_count": null,
            "_view_module_version": "1.5.0",
            "description_tooltip": null,
            "_model_module": "@jupyter-widgets/controls",
            "layout": "IPY_MODEL_29195d1ede2f41cc806743c91c1fa1f5"
          }
        },
        "0f2817789c894e6e876425dceec7bac8": {
          "model_module": "@jupyter-widgets/controls",
          "model_name": "ProgressStyleModel",
          "state": {
            "_view_name": "StyleView",
            "_model_name": "ProgressStyleModel",
            "description_width": "initial",
            "_view_module": "@jupyter-widgets/base",
            "_model_module_version": "1.5.0",
            "_view_count": null,
            "_view_module_version": "1.2.0",
            "bar_color": null,
            "_model_module": "@jupyter-widgets/controls"
          }
        },
        "fa4ec1b08b174315a418f7496402cc06": {
          "model_module": "@jupyter-widgets/base",
          "model_name": "LayoutModel",
          "state": {
            "_view_name": "LayoutView",
            "grid_template_rows": null,
            "right": null,
            "justify_content": null,
            "_view_module": "@jupyter-widgets/base",
            "overflow": null,
            "_model_module_version": "1.2.0",
            "_view_count": null,
            "flex_flow": null,
            "width": null,
            "min_width": null,
            "border": null,
            "align_items": null,
            "bottom": null,
            "_model_module": "@jupyter-widgets/base",
            "top": null,
            "grid_column": null,
            "overflow_y": null,
            "overflow_x": null,
            "grid_auto_flow": null,
            "grid_area": null,
            "grid_template_columns": null,
            "flex": null,
            "_model_name": "LayoutModel",
            "justify_items": null,
            "grid_row": null,
            "max_height": null,
            "align_content": null,
            "visibility": null,
            "align_self": null,
            "height": null,
            "min_height": null,
            "padding": null,
            "grid_auto_rows": null,
            "grid_gap": null,
            "max_width": null,
            "order": null,
            "_view_module_version": "1.2.0",
            "grid_template_areas": null,
            "object_position": null,
            "object_fit": null,
            "grid_auto_columns": null,
            "margin": null,
            "display": null,
            "left": null
          }
        },
        "5ce2bffc875b445ea2de32510c686582": {
          "model_module": "@jupyter-widgets/controls",
          "model_name": "DescriptionStyleModel",
          "state": {
            "_view_name": "StyleView",
            "_model_name": "DescriptionStyleModel",
            "description_width": "",
            "_view_module": "@jupyter-widgets/base",
            "_model_module_version": "1.5.0",
            "_view_count": null,
            "_view_module_version": "1.2.0",
            "_model_module": "@jupyter-widgets/controls"
          }
        },
        "29195d1ede2f41cc806743c91c1fa1f5": {
          "model_module": "@jupyter-widgets/base",
          "model_name": "LayoutModel",
          "state": {
            "_view_name": "LayoutView",
            "grid_template_rows": null,
            "right": null,
            "justify_content": null,
            "_view_module": "@jupyter-widgets/base",
            "overflow": null,
            "_model_module_version": "1.2.0",
            "_view_count": null,
            "flex_flow": null,
            "width": null,
            "min_width": null,
            "border": null,
            "align_items": null,
            "bottom": null,
            "_model_module": "@jupyter-widgets/base",
            "top": null,
            "grid_column": null,
            "overflow_y": null,
            "overflow_x": null,
            "grid_auto_flow": null,
            "grid_area": null,
            "grid_template_columns": null,
            "flex": null,
            "_model_name": "LayoutModel",
            "justify_items": null,
            "grid_row": null,
            "max_height": null,
            "align_content": null,
            "visibility": null,
            "align_self": null,
            "height": null,
            "min_height": null,
            "padding": null,
            "grid_auto_rows": null,
            "grid_gap": null,
            "max_width": null,
            "order": null,
            "_view_module_version": "1.2.0",
            "grid_template_areas": null,
            "object_position": null,
            "object_fit": null,
            "grid_auto_columns": null,
            "margin": null,
            "display": null,
            "left": null
          }
        },
        "30f922c372c840c0b821c6ad55fe7689": {
          "model_module": "@jupyter-widgets/controls",
          "model_name": "HBoxModel",
          "state": {
            "_view_name": "HBoxView",
            "_dom_classes": [],
            "_model_name": "HBoxModel",
            "_view_module": "@jupyter-widgets/controls",
            "_model_module_version": "1.5.0",
            "_view_count": null,
            "_view_module_version": "1.5.0",
            "box_style": "",
            "layout": "IPY_MODEL_cb1e3ea121cc490aab29b639c32a0e33",
            "_model_module": "@jupyter-widgets/controls",
            "children": [
              "IPY_MODEL_c9a77491a6544037ba54ab5042a36c1e",
              "IPY_MODEL_04a002ff2b174d9fa2297cd22b9e7d95"
            ]
          }
        },
        "cb1e3ea121cc490aab29b639c32a0e33": {
          "model_module": "@jupyter-widgets/base",
          "model_name": "LayoutModel",
          "state": {
            "_view_name": "LayoutView",
            "grid_template_rows": null,
            "right": null,
            "justify_content": null,
            "_view_module": "@jupyter-widgets/base",
            "overflow": null,
            "_model_module_version": "1.2.0",
            "_view_count": null,
            "flex_flow": null,
            "width": null,
            "min_width": null,
            "border": null,
            "align_items": null,
            "bottom": null,
            "_model_module": "@jupyter-widgets/base",
            "top": null,
            "grid_column": null,
            "overflow_y": null,
            "overflow_x": null,
            "grid_auto_flow": null,
            "grid_area": null,
            "grid_template_columns": null,
            "flex": null,
            "_model_name": "LayoutModel",
            "justify_items": null,
            "grid_row": null,
            "max_height": null,
            "align_content": null,
            "visibility": null,
            "align_self": null,
            "height": null,
            "min_height": null,
            "padding": null,
            "grid_auto_rows": null,
            "grid_gap": null,
            "max_width": null,
            "order": null,
            "_view_module_version": "1.2.0",
            "grid_template_areas": null,
            "object_position": null,
            "object_fit": null,
            "grid_auto_columns": null,
            "margin": null,
            "display": null,
            "left": null
          }
        },
        "c9a77491a6544037ba54ab5042a36c1e": {
          "model_module": "@jupyter-widgets/controls",
          "model_name": "FloatProgressModel",
          "state": {
            "_view_name": "ProgressView",
            "style": "IPY_MODEL_b2bea4ab962e4c9bb665849812c60603",
            "_dom_classes": [],
            "description": "100%",
            "_model_name": "FloatProgressModel",
            "bar_style": "success",
            "max": 150000,
            "_view_module": "@jupyter-widgets/controls",
            "_model_module_version": "1.5.0",
            "value": 150000,
            "_view_count": null,
            "_view_module_version": "1.5.0",
            "orientation": "horizontal",
            "min": 0,
            "description_tooltip": null,
            "_model_module": "@jupyter-widgets/controls",
            "layout": "IPY_MODEL_627aabb2b2f9472480353444ef4ae007"
          }
        },
        "04a002ff2b174d9fa2297cd22b9e7d95": {
          "model_module": "@jupyter-widgets/controls",
          "model_name": "HTMLModel",
          "state": {
            "_view_name": "HTMLView",
            "style": "IPY_MODEL_bf02da3d6072478e8039bdf63233950f",
            "_dom_classes": [],
            "description": "",
            "_model_name": "HTMLModel",
            "placeholder": "​",
            "_view_module": "@jupyter-widgets/controls",
            "_model_module_version": "1.5.0",
            "value": " 150000/150000 [00:15&lt;00:00, 9712.81it/s]",
            "_view_count": null,
            "_view_module_version": "1.5.0",
            "description_tooltip": null,
            "_model_module": "@jupyter-widgets/controls",
            "layout": "IPY_MODEL_fe254dd8b7b64ba8bfb8652c50a4a7b3"
          }
        },
        "b2bea4ab962e4c9bb665849812c60603": {
          "model_module": "@jupyter-widgets/controls",
          "model_name": "ProgressStyleModel",
          "state": {
            "_view_name": "StyleView",
            "_model_name": "ProgressStyleModel",
            "description_width": "initial",
            "_view_module": "@jupyter-widgets/base",
            "_model_module_version": "1.5.0",
            "_view_count": null,
            "_view_module_version": "1.2.0",
            "bar_color": null,
            "_model_module": "@jupyter-widgets/controls"
          }
        },
        "627aabb2b2f9472480353444ef4ae007": {
          "model_module": "@jupyter-widgets/base",
          "model_name": "LayoutModel",
          "state": {
            "_view_name": "LayoutView",
            "grid_template_rows": null,
            "right": null,
            "justify_content": null,
            "_view_module": "@jupyter-widgets/base",
            "overflow": null,
            "_model_module_version": "1.2.0",
            "_view_count": null,
            "flex_flow": null,
            "width": null,
            "min_width": null,
            "border": null,
            "align_items": null,
            "bottom": null,
            "_model_module": "@jupyter-widgets/base",
            "top": null,
            "grid_column": null,
            "overflow_y": null,
            "overflow_x": null,
            "grid_auto_flow": null,
            "grid_area": null,
            "grid_template_columns": null,
            "flex": null,
            "_model_name": "LayoutModel",
            "justify_items": null,
            "grid_row": null,
            "max_height": null,
            "align_content": null,
            "visibility": null,
            "align_self": null,
            "height": null,
            "min_height": null,
            "padding": null,
            "grid_auto_rows": null,
            "grid_gap": null,
            "max_width": null,
            "order": null,
            "_view_module_version": "1.2.0",
            "grid_template_areas": null,
            "object_position": null,
            "object_fit": null,
            "grid_auto_columns": null,
            "margin": null,
            "display": null,
            "left": null
          }
        },
        "bf02da3d6072478e8039bdf63233950f": {
          "model_module": "@jupyter-widgets/controls",
          "model_name": "DescriptionStyleModel",
          "state": {
            "_view_name": "StyleView",
            "_model_name": "DescriptionStyleModel",
            "description_width": "",
            "_view_module": "@jupyter-widgets/base",
            "_model_module_version": "1.5.0",
            "_view_count": null,
            "_view_module_version": "1.2.0",
            "_model_module": "@jupyter-widgets/controls"
          }
        },
        "fe254dd8b7b64ba8bfb8652c50a4a7b3": {
          "model_module": "@jupyter-widgets/base",
          "model_name": "LayoutModel",
          "state": {
            "_view_name": "LayoutView",
            "grid_template_rows": null,
            "right": null,
            "justify_content": null,
            "_view_module": "@jupyter-widgets/base",
            "overflow": null,
            "_model_module_version": "1.2.0",
            "_view_count": null,
            "flex_flow": null,
            "width": null,
            "min_width": null,
            "border": null,
            "align_items": null,
            "bottom": null,
            "_model_module": "@jupyter-widgets/base",
            "top": null,
            "grid_column": null,
            "overflow_y": null,
            "overflow_x": null,
            "grid_auto_flow": null,
            "grid_area": null,
            "grid_template_columns": null,
            "flex": null,
            "_model_name": "LayoutModel",
            "justify_items": null,
            "grid_row": null,
            "max_height": null,
            "align_content": null,
            "visibility": null,
            "align_self": null,
            "height": null,
            "min_height": null,
            "padding": null,
            "grid_auto_rows": null,
            "grid_gap": null,
            "max_width": null,
            "order": null,
            "_view_module_version": "1.2.0",
            "grid_template_areas": null,
            "object_position": null,
            "object_fit": null,
            "grid_auto_columns": null,
            "margin": null,
            "display": null,
            "left": null
          }
        },
        "09306850e4cd4e0fb369ee39ccc1f595": {
          "model_module": "@jupyter-widgets/controls",
          "model_name": "HBoxModel",
          "state": {
            "_view_name": "HBoxView",
            "_dom_classes": [],
            "_model_name": "HBoxModel",
            "_view_module": "@jupyter-widgets/controls",
            "_model_module_version": "1.5.0",
            "_view_count": null,
            "_view_module_version": "1.5.0",
            "box_style": "",
            "layout": "IPY_MODEL_176d25f49ac44fe6b29f3ff621736bc7",
            "_model_module": "@jupyter-widgets/controls",
            "children": [
              "IPY_MODEL_afe067f613384070bf33917d1093a3f7",
              "IPY_MODEL_e10f4fa7862c43d9b68855c0df9e63c2"
            ]
          }
        },
        "176d25f49ac44fe6b29f3ff621736bc7": {
          "model_module": "@jupyter-widgets/base",
          "model_name": "LayoutModel",
          "state": {
            "_view_name": "LayoutView",
            "grid_template_rows": null,
            "right": null,
            "justify_content": null,
            "_view_module": "@jupyter-widgets/base",
            "overflow": null,
            "_model_module_version": "1.2.0",
            "_view_count": null,
            "flex_flow": null,
            "width": null,
            "min_width": null,
            "border": null,
            "align_items": null,
            "bottom": null,
            "_model_module": "@jupyter-widgets/base",
            "top": null,
            "grid_column": null,
            "overflow_y": null,
            "overflow_x": null,
            "grid_auto_flow": null,
            "grid_area": null,
            "grid_template_columns": null,
            "flex": null,
            "_model_name": "LayoutModel",
            "justify_items": null,
            "grid_row": null,
            "max_height": null,
            "align_content": null,
            "visibility": null,
            "align_self": null,
            "height": null,
            "min_height": null,
            "padding": null,
            "grid_auto_rows": null,
            "grid_gap": null,
            "max_width": null,
            "order": null,
            "_view_module_version": "1.2.0",
            "grid_template_areas": null,
            "object_position": null,
            "object_fit": null,
            "grid_auto_columns": null,
            "margin": null,
            "display": null,
            "left": null
          }
        },
        "afe067f613384070bf33917d1093a3f7": {
          "model_module": "@jupyter-widgets/controls",
          "model_name": "FloatProgressModel",
          "state": {
            "_view_name": "ProgressView",
            "style": "IPY_MODEL_3f89be9e49c3498797cf1792a222dbc2",
            "_dom_classes": [],
            "description": "100%",
            "_model_name": "FloatProgressModel",
            "bar_style": "success",
            "max": 50000,
            "_view_module": "@jupyter-widgets/controls",
            "_model_module_version": "1.5.0",
            "value": 50000,
            "_view_count": null,
            "_view_module_version": "1.5.0",
            "orientation": "horizontal",
            "min": 0,
            "description_tooltip": null,
            "_model_module": "@jupyter-widgets/controls",
            "layout": "IPY_MODEL_a97166f30a64459da8344d0638f6eff5"
          }
        },
        "e10f4fa7862c43d9b68855c0df9e63c2": {
          "model_module": "@jupyter-widgets/controls",
          "model_name": "HTMLModel",
          "state": {
            "_view_name": "HTMLView",
            "style": "IPY_MODEL_6a7b8ee855754a729b60e23e3fb1b4f8",
            "_dom_classes": [],
            "description": "",
            "_model_name": "HTMLModel",
            "placeholder": "​",
            "_view_module": "@jupyter-widgets/controls",
            "_model_module_version": "1.5.0",
            "value": " 50000/50000 [00:07&lt;00:00, 7012.19it/s]",
            "_view_count": null,
            "_view_module_version": "1.5.0",
            "description_tooltip": null,
            "_model_module": "@jupyter-widgets/controls",
            "layout": "IPY_MODEL_414eb96f112343158ab68014e2b8e011"
          }
        },
        "3f89be9e49c3498797cf1792a222dbc2": {
          "model_module": "@jupyter-widgets/controls",
          "model_name": "ProgressStyleModel",
          "state": {
            "_view_name": "StyleView",
            "_model_name": "ProgressStyleModel",
            "description_width": "initial",
            "_view_module": "@jupyter-widgets/base",
            "_model_module_version": "1.5.0",
            "_view_count": null,
            "_view_module_version": "1.2.0",
            "bar_color": null,
            "_model_module": "@jupyter-widgets/controls"
          }
        },
        "a97166f30a64459da8344d0638f6eff5": {
          "model_module": "@jupyter-widgets/base",
          "model_name": "LayoutModel",
          "state": {
            "_view_name": "LayoutView",
            "grid_template_rows": null,
            "right": null,
            "justify_content": null,
            "_view_module": "@jupyter-widgets/base",
            "overflow": null,
            "_model_module_version": "1.2.0",
            "_view_count": null,
            "flex_flow": null,
            "width": null,
            "min_width": null,
            "border": null,
            "align_items": null,
            "bottom": null,
            "_model_module": "@jupyter-widgets/base",
            "top": null,
            "grid_column": null,
            "overflow_y": null,
            "overflow_x": null,
            "grid_auto_flow": null,
            "grid_area": null,
            "grid_template_columns": null,
            "flex": null,
            "_model_name": "LayoutModel",
            "justify_items": null,
            "grid_row": null,
            "max_height": null,
            "align_content": null,
            "visibility": null,
            "align_self": null,
            "height": null,
            "min_height": null,
            "padding": null,
            "grid_auto_rows": null,
            "grid_gap": null,
            "max_width": null,
            "order": null,
            "_view_module_version": "1.2.0",
            "grid_template_areas": null,
            "object_position": null,
            "object_fit": null,
            "grid_auto_columns": null,
            "margin": null,
            "display": null,
            "left": null
          }
        },
        "6a7b8ee855754a729b60e23e3fb1b4f8": {
          "model_module": "@jupyter-widgets/controls",
          "model_name": "DescriptionStyleModel",
          "state": {
            "_view_name": "StyleView",
            "_model_name": "DescriptionStyleModel",
            "description_width": "",
            "_view_module": "@jupyter-widgets/base",
            "_model_module_version": "1.5.0",
            "_view_count": null,
            "_view_module_version": "1.2.0",
            "_model_module": "@jupyter-widgets/controls"
          }
        },
        "414eb96f112343158ab68014e2b8e011": {
          "model_module": "@jupyter-widgets/base",
          "model_name": "LayoutModel",
          "state": {
            "_view_name": "LayoutView",
            "grid_template_rows": null,
            "right": null,
            "justify_content": null,
            "_view_module": "@jupyter-widgets/base",
            "overflow": null,
            "_model_module_version": "1.2.0",
            "_view_count": null,
            "flex_flow": null,
            "width": null,
            "min_width": null,
            "border": null,
            "align_items": null,
            "bottom": null,
            "_model_module": "@jupyter-widgets/base",
            "top": null,
            "grid_column": null,
            "overflow_y": null,
            "overflow_x": null,
            "grid_auto_flow": null,
            "grid_area": null,
            "grid_template_columns": null,
            "flex": null,
            "_model_name": "LayoutModel",
            "justify_items": null,
            "grid_row": null,
            "max_height": null,
            "align_content": null,
            "visibility": null,
            "align_self": null,
            "height": null,
            "min_height": null,
            "padding": null,
            "grid_auto_rows": null,
            "grid_gap": null,
            "max_width": null,
            "order": null,
            "_view_module_version": "1.2.0",
            "grid_template_areas": null,
            "object_position": null,
            "object_fit": null,
            "grid_auto_columns": null,
            "margin": null,
            "display": null,
            "left": null
          }
        },
        "dbcae3870ed44896864f23e0b400d7fd": {
          "model_module": "@jupyter-widgets/controls",
          "model_name": "HBoxModel",
          "state": {
            "_view_name": "HBoxView",
            "_dom_classes": [],
            "_model_name": "HBoxModel",
            "_view_module": "@jupyter-widgets/controls",
            "_model_module_version": "1.5.0",
            "_view_count": null,
            "_view_module_version": "1.5.0",
            "box_style": "",
            "layout": "IPY_MODEL_8e16dcac6b4c40d194b02aad842eaad0",
            "_model_module": "@jupyter-widgets/controls",
            "children": [
              "IPY_MODEL_717ea25f433d40b8ba79b44efcde345d",
              "IPY_MODEL_7416bf44332049e0803081a0616203d2"
            ]
          }
        },
        "8e16dcac6b4c40d194b02aad842eaad0": {
          "model_module": "@jupyter-widgets/base",
          "model_name": "LayoutModel",
          "state": {
            "_view_name": "LayoutView",
            "grid_template_rows": null,
            "right": null,
            "justify_content": null,
            "_view_module": "@jupyter-widgets/base",
            "overflow": null,
            "_model_module_version": "1.2.0",
            "_view_count": null,
            "flex_flow": null,
            "width": null,
            "min_width": null,
            "border": null,
            "align_items": null,
            "bottom": null,
            "_model_module": "@jupyter-widgets/base",
            "top": null,
            "grid_column": null,
            "overflow_y": null,
            "overflow_x": null,
            "grid_auto_flow": null,
            "grid_area": null,
            "grid_template_columns": null,
            "flex": null,
            "_model_name": "LayoutModel",
            "justify_items": null,
            "grid_row": null,
            "max_height": null,
            "align_content": null,
            "visibility": null,
            "align_self": null,
            "height": null,
            "min_height": null,
            "padding": null,
            "grid_auto_rows": null,
            "grid_gap": null,
            "max_width": null,
            "order": null,
            "_view_module_version": "1.2.0",
            "grid_template_areas": null,
            "object_position": null,
            "object_fit": null,
            "grid_auto_columns": null,
            "margin": null,
            "display": null,
            "left": null
          }
        },
        "717ea25f433d40b8ba79b44efcde345d": {
          "model_module": "@jupyter-widgets/controls",
          "model_name": "FloatProgressModel",
          "state": {
            "_view_name": "ProgressView",
            "style": "IPY_MODEL_bddccaea5511429b949f3291fad681ee",
            "_dom_classes": [],
            "description": "100%",
            "_model_name": "FloatProgressModel",
            "bar_style": "success",
            "max": 56,
            "_view_module": "@jupyter-widgets/controls",
            "_model_module_version": "1.5.0",
            "value": 56,
            "_view_count": null,
            "_view_module_version": "1.5.0",
            "orientation": "horizontal",
            "min": 0,
            "description_tooltip": null,
            "_model_module": "@jupyter-widgets/controls",
            "layout": "IPY_MODEL_f2b3050a202a4ebf96c4878e773a11c7"
          }
        },
        "7416bf44332049e0803081a0616203d2": {
          "model_module": "@jupyter-widgets/controls",
          "model_name": "HTMLModel",
          "state": {
            "_view_name": "HTMLView",
            "style": "IPY_MODEL_cd8998db3dfc4533a0aec828487f3c1c",
            "_dom_classes": [],
            "description": "",
            "_model_name": "HTMLModel",
            "placeholder": "​",
            "_view_module": "@jupyter-widgets/controls",
            "_model_module_version": "1.5.0",
            "value": " 56/56 [09:24&lt;00:00, 10.08s/it]",
            "_view_count": null,
            "_view_module_version": "1.5.0",
            "description_tooltip": null,
            "_model_module": "@jupyter-widgets/controls",
            "layout": "IPY_MODEL_0f5b4258560b4809927b64a5d5d0bf61"
          }
        },
        "bddccaea5511429b949f3291fad681ee": {
          "model_module": "@jupyter-widgets/controls",
          "model_name": "ProgressStyleModel",
          "state": {
            "_view_name": "StyleView",
            "_model_name": "ProgressStyleModel",
            "description_width": "initial",
            "_view_module": "@jupyter-widgets/base",
            "_model_module_version": "1.5.0",
            "_view_count": null,
            "_view_module_version": "1.2.0",
            "bar_color": null,
            "_model_module": "@jupyter-widgets/controls"
          }
        },
        "f2b3050a202a4ebf96c4878e773a11c7": {
          "model_module": "@jupyter-widgets/base",
          "model_name": "LayoutModel",
          "state": {
            "_view_name": "LayoutView",
            "grid_template_rows": null,
            "right": null,
            "justify_content": null,
            "_view_module": "@jupyter-widgets/base",
            "overflow": null,
            "_model_module_version": "1.2.0",
            "_view_count": null,
            "flex_flow": null,
            "width": null,
            "min_width": null,
            "border": null,
            "align_items": null,
            "bottom": null,
            "_model_module": "@jupyter-widgets/base",
            "top": null,
            "grid_column": null,
            "overflow_y": null,
            "overflow_x": null,
            "grid_auto_flow": null,
            "grid_area": null,
            "grid_template_columns": null,
            "flex": null,
            "_model_name": "LayoutModel",
            "justify_items": null,
            "grid_row": null,
            "max_height": null,
            "align_content": null,
            "visibility": null,
            "align_self": null,
            "height": null,
            "min_height": null,
            "padding": null,
            "grid_auto_rows": null,
            "grid_gap": null,
            "max_width": null,
            "order": null,
            "_view_module_version": "1.2.0",
            "grid_template_areas": null,
            "object_position": null,
            "object_fit": null,
            "grid_auto_columns": null,
            "margin": null,
            "display": null,
            "left": null
          }
        },
        "cd8998db3dfc4533a0aec828487f3c1c": {
          "model_module": "@jupyter-widgets/controls",
          "model_name": "DescriptionStyleModel",
          "state": {
            "_view_name": "StyleView",
            "_model_name": "DescriptionStyleModel",
            "description_width": "",
            "_view_module": "@jupyter-widgets/base",
            "_model_module_version": "1.5.0",
            "_view_count": null,
            "_view_module_version": "1.2.0",
            "_model_module": "@jupyter-widgets/controls"
          }
        },
        "0f5b4258560b4809927b64a5d5d0bf61": {
          "model_module": "@jupyter-widgets/base",
          "model_name": "LayoutModel",
          "state": {
            "_view_name": "LayoutView",
            "grid_template_rows": null,
            "right": null,
            "justify_content": null,
            "_view_module": "@jupyter-widgets/base",
            "overflow": null,
            "_model_module_version": "1.2.0",
            "_view_count": null,
            "flex_flow": null,
            "width": null,
            "min_width": null,
            "border": null,
            "align_items": null,
            "bottom": null,
            "_model_module": "@jupyter-widgets/base",
            "top": null,
            "grid_column": null,
            "overflow_y": null,
            "overflow_x": null,
            "grid_auto_flow": null,
            "grid_area": null,
            "grid_template_columns": null,
            "flex": null,
            "_model_name": "LayoutModel",
            "justify_items": null,
            "grid_row": null,
            "max_height": null,
            "align_content": null,
            "visibility": null,
            "align_self": null,
            "height": null,
            "min_height": null,
            "padding": null,
            "grid_auto_rows": null,
            "grid_gap": null,
            "max_width": null,
            "order": null,
            "_view_module_version": "1.2.0",
            "grid_template_areas": null,
            "object_position": null,
            "object_fit": null,
            "grid_auto_columns": null,
            "margin": null,
            "display": null,
            "left": null
          }
        }
      }
    }
  },
  "cells": [
    {
      "cell_type": "markdown",
      "metadata": {
        "id": "view-in-github",
        "colab_type": "text"
      },
      "source": [
        "<a href=\"https://colab.research.google.com/github/GyuhoonK/NLP-NSMC/blob/master/KoBERT_usingTPU_binary.ipynb\" target=\"_parent\"><img src=\"https://colab.research.google.com/assets/colab-badge.svg\" alt=\"Open In Colab\"/></a>"
      ]
    },
    {
      "cell_type": "markdown",
      "metadata": {
        "id": "B1lmBHjv8Zt9",
        "colab_type": "text"
      },
      "source": [
        "#1. Drive Mount"
      ]
    },
    {
      "cell_type": "code",
      "metadata": {
        "id": "VFoCanUP8_tp",
        "colab_type": "code",
        "colab": {
          "base_uri": "https://localhost:8080/",
          "height": 34
        },
        "outputId": "2c8f879b-0229-4766-925e-601b0e2a43eb"
      },
      "source": [
        "from google.colab import auth \n",
        "auth.authenticate_user()\n",
        "from google.colab import drive\n",
        "drive.mount('/content/drive')"
      ],
      "execution_count": 1,
      "outputs": [
        {
          "output_type": "stream",
          "text": [
            "Drive already mounted at /content/drive; to attempt to forcibly remount, call drive.mount(\"/content/drive\", force_remount=True).\n"
          ],
          "name": "stdout"
        }
      ]
    },
    {
      "cell_type": "markdown",
      "metadata": {
        "id": "B4lxKR4Q8lcd",
        "colab_type": "text"
      },
      "source": [
        "#2. KorBERT - ETRI\n",
        "ETRI에서 미리 KorBERT와 tokenizer를 다운받습니다.(http://aiopen.etri.re.kr/aidata_download.php)<br>\n",
        "사용한 KoRBERT 모델은 pytorch 버전, 형태소 기반의 [한국어 BERT]한국어 BERT 언어모델[1/4]입니다."
      ]
    },
    {
      "cell_type": "code",
      "metadata": {
        "id": "BH7RxL3h1SPN",
        "colab_type": "code",
        "colab": {}
      },
      "source": [
        "!pip install --quiet transformers"
      ],
      "execution_count": 2,
      "outputs": []
    },
    {
      "cell_type": "code",
      "metadata": {
        "id": "AN1FX5jK89mG",
        "colab_type": "code",
        "colab": {
          "base_uri": "https://localhost:8080/",
          "height": 34
        },
        "outputId": "cff82f7d-2301-43c5-baea-d435ec22c541"
      },
      "source": [
        "import tensorflow as tf\n",
        "print(\"tf version : {}\".format(tf.__version__))\n",
        "import tensorflow_hub as hub\n",
        "import json\n",
        "from transformers import BertConfig\n",
        "from transformers import BertModel\n",
        "from transformers import TFBertModel\n",
        "import datetime, os\n",
        "\n",
        "import pandas as pd\n",
        "import numpy as np\n",
        "from tqdm import tqdm_notebook\n",
        "\n",
        "import urllib3\n",
        "import json\n",
        "import pickle\n",
        "\n",
        "import sys\n",
        "sys.path.append('/content/drive/My Drive/Colab Notebooks/NLP/src_tokenizer') # path to tokenization_mopr.py\n",
        "\n",
        "from tokenization_morp import *\n",
        "\n",
        "nlp_path = '/content/drive/My Drive/Colab Notebooks/NLP/' \n",
        "ckpt_path = '/content/drive/My Drive/Colab Notebooks/NLP/pytorch_model.bin'"
      ],
      "execution_count": 3,
      "outputs": [
        {
          "output_type": "stream",
          "text": [
            "tf version : 2.2.0\n"
          ],
          "name": "stdout"
        }
      ]
    },
    {
      "cell_type": "code",
      "metadata": {
        "id": "b3IINp1D3W4u",
        "colab_type": "code",
        "colab": {}
      },
      "source": [
        "## from scr_tokenizer(ETRI) ##\n",
        "tokenizer = FullTokenizer(nlp_path + 'vocab.korean_morp.list')"
      ],
      "execution_count": 4,
      "outputs": []
    },
    {
      "cell_type": "code",
      "metadata": {
        "id": "-RqG9quP2dFf",
        "colab_type": "code",
        "colab": {}
      },
      "source": [
        "##load ETRIKorBERT config ###\n",
        "with open(nlp_path + '/bert_config.json', 'r') as f:\n",
        "  json_config = json.load(f)\n",
        "f.close()\n",
        "bertconfig = BertConfig(**json_config)"
      ],
      "execution_count": 5,
      "outputs": []
    },
    {
      "cell_type": "markdown",
      "metadata": {
        "id": "CQ--Ijeh8oZ7",
        "colab_type": "text"
      },
      "source": [
        "#3. Pipeline"
      ]
    },
    {
      "cell_type": "markdown",
      "metadata": {
        "id": "i-lVWZm58sMo",
        "colab_type": "text"
      },
      "source": [
        "NSMD dataset을 다운로드 받고 전처리를 시작합니다<br>"
      ]
    },
    {
      "cell_type": "code",
      "metadata": {
        "id": "w1aeoJugypbr",
        "colab_type": "code",
        "colab": {
          "base_uri": "https://localhost:8080/",
          "height": 125
        },
        "outputId": "808ee21d-14e4-419c-b8fa-dd98f7ddd7da"
      },
      "source": [
        "### ncms data load###\n",
        "!git clone https://github.com/e9t/nsmc.git\n",
        "train_path = 'nsmc/ratings_train.txt'\n",
        "test_path = 'nsmc/ratings_test.txt'\n",
        "\n",
        "train = pd.read_csv(train_path, sep = '\\t')\n",
        "test =pd.read_csv(test_path, sep ='\\t')"
      ],
      "execution_count": null,
      "outputs": [
        {
          "output_type": "stream",
          "text": [
            "Cloning into 'nsmc'...\n",
            "remote: Enumerating objects: 14763, done.\u001b[K\n",
            "remote: Total 14763 (delta 0), reused 0 (delta 0), pack-reused 14763\u001b[K\n",
            "Receiving objects: 100% (14763/14763), 56.19 MiB | 18.68 MiB/s, done.\n",
            "Resolving deltas: 100% (1749/1749), done.\n",
            "Checking out files: 100% (14737/14737), done.\n"
          ],
          "name": "stdout"
        }
      ]
    },
    {
      "cell_type": "code",
      "metadata": {
        "id": "L0Kw79xm4GQB",
        "colab_type": "code",
        "colab": {
          "base_uri": "https://localhost:8080/",
          "height": 53
        },
        "outputId": "cafe39a0-db51-423f-8721-93f90e3df2ee"
      },
      "source": [
        "train['document'] = train['document'].astype(str)\n",
        "test['document'] = test['document'].astype(str)\n",
        "\n",
        "print(train.shape)\n",
        "print(test.shape)"
      ],
      "execution_count": null,
      "outputs": [
        {
          "output_type": "stream",
          "text": [
            "(150000, 3)\n",
            "(50000, 3)\n"
          ],
          "name": "stdout"
        }
      ]
    },
    {
      "cell_type": "markdown",
      "metadata": {
        "id": "-rS2Jez-_LXG",
        "colab_type": "text"
      },
      "source": [
        "get_morp 함수를 이용해 ETRI 형태소 분석 API의 문장 분석 결과를 얻습니다"
      ]
    },
    {
      "cell_type": "code",
      "metadata": {
        "id": "BqeadQvhAE5f",
        "colab_type": "code",
        "colab": {}
      },
      "source": [
        "def get_morp(df, Key):\n",
        "  '''\n",
        "  ETRI 형태소분석 API를 통해 세종 품사 태그에 따른 형태소 분석을 진행합니다\n",
        "  *ETRI API 사용 예제 코드 참고\n",
        "  '''\n",
        "  openApiURL = \"http://aiopen.etri.re.kr:8000/WiseNLU\"\n",
        "  accessKey = Key\n",
        "  analysisCode = \"morp\"\n",
        "\n",
        "  http = urllib3.PoolManager()\n",
        "  \n",
        "  output = []\n",
        "  for i in tqdm_notebook(range(0, len(df['document'].values), 200)):\n",
        "    query = \" γ \".join(df.document.values[i:i+200]) #문장 구분을 위한 기호 사용\n",
        "    requestJson = {\n",
        "      \"access_key\": accessKey,\n",
        "      \"argument\": {\n",
        "          \"text\": query,\n",
        "          \"analysis_code\": analysisCode}}\n",
        "\n",
        "    http = urllib3.PoolManager()\n",
        "    response = http.request(\n",
        "        \"POST\",\n",
        "        openApiURL,\n",
        "        headers={\"Content-Type\": \"application/json; charset=UTF-8\"},\n",
        "        body=json.dumps(requestJson))\n",
        "    \n",
        "    res = json.loads(response.data)\n",
        "  \n",
        "    sentence = []\n",
        "    for st in res['return_object']['sentence']:\n",
        "      for word in st['morp']:\n",
        "        if word['lemma'].find('γ') != -1: # 문장 구분 기호를 발견 시\n",
        "          output.append(sentence) #해당 setnence는 끝난다\n",
        "          sentence = []\n",
        "          continue #다음 word로 진행한다\n",
        "        text = \"{}/{}_\".format(word['lemma'],word['type'])\n",
        "        sentence.append(text)\n",
        "    output.append(sentence)\n",
        "    \n",
        "  return output"
      ],
      "execution_count": null,
      "outputs": []
    },
    {
      "cell_type": "markdown",
      "metadata": {
        "id": "v1k4cvLT_TuC",
        "colab_type": "text"
      },
      "source": [
        "형태소 분석 결과를 바탕으로 ETRI에서 배포한 tokenzer와 vocab_list를 이용해 ids를 반환받습니다"
      ]
    },
    {
      "cell_type": "code",
      "metadata": {
        "id": "zI-jxLoiq0xz",
        "colab_type": "code",
        "colab": {}
      },
      "source": [
        "def get_input(token, max_seq = MAX_SEQ):\n",
        "  '''\n",
        "  형태소분석 결과를 바탕으로 BERT input을 반환합니다.\n",
        "  sigle sentence를 가정함.\n",
        "  '''\n",
        "  while True:\n",
        "    if len(token)<= max_seq - 2:\n",
        "      break\n",
        "    token.pop()\n",
        "  token = [\"[CLS]\"] + token + [\"[SEP]\"]\n",
        "  input_ids = tokenizer.convert_tokens_to_ids(token)\n",
        "  \n",
        "  \n",
        "  input_segments = [0] * len(input_ids) # single sentence\n",
        "  input_masks = [1] * len(input_ids)\n",
        "\n",
        "  padding = [0] * (max_seq - len(input_ids))\n",
        "  \n",
        "  input_ids += padding\n",
        "  input_masks += padding\n",
        "  input_segments += padding\n",
        "  \n",
        "  return np.array(input_ids), np.array(input_masks), np.array(input_segments)"
      ],
      "execution_count": null,
      "outputs": []
    },
    {
      "cell_type": "markdown",
      "metadata": {
        "id": "SqYGnWVK_dxa",
        "colab_type": "text"
      },
      "source": [
        "id를 바탕으로 mask, segment token을 추가합니다"
      ]
    },
    {
      "cell_type": "code",
      "metadata": {
        "id": "wh7xZDu7CV_w",
        "colab_type": "code",
        "colab": {}
      },
      "source": [
        "def get_dataset(tokens, label, max_seq):\n",
        "  '''\n",
        "  BERT input을 위한 dataset으로 반환합니다.\n",
        "  '''\n",
        "  input_ids = []\n",
        "  input_masks = []\n",
        "  input_segments = []\n",
        "  labels = []\n",
        "  for token in tqdm_notebook(tokens):\n",
        "    id_, mask, segment = get_input(token, max_seq)\n",
        "    input_ids.append(id_)\n",
        "    input_masks.append(mask)\n",
        "    input_segments.append(segment)\n",
        "  \n",
        "  input_ids = np.array(input_ids)\n",
        "  input_masks = np.array(input_masks)\n",
        "  input_segments = np.array(input_segments)\n",
        "\n",
        "  label = label.values.reshape(-1,1,1)\n",
        "\n",
        "  return (input_ids, input_masks, input_segments), label"
      ],
      "execution_count": null,
      "outputs": []
    },
    {
      "cell_type": "markdown",
      "metadata": {
        "id": "wEPzt2g883Fq",
        "colab_type": "text"
      },
      "source": [
        "위에서 정의한 함수들을 이용해 nsmc dataset의 전처리를 시작합니다"
      ]
    },
    {
      "cell_type": "code",
      "metadata": {
        "id": "wzQunFngGXtr",
        "colab_type": "code",
        "colab": {
          "base_uri": "https://localhost:8080/",
          "height": 171,
          "referenced_widgets": [
            "69978cd4f5d74eca8546688d20a2f0d6",
            "128a7556f91848dcb631240b0ae2e07b",
            "c6cb548d8d114e2cb358178136e58211",
            "59d2acbda5ce46479e906923eb09b515",
            "8761157329494c2387495152c514f005",
            "4e9e7fbc982f45c885c1a63a3e165d1c",
            "d2b47cb2a4f54b12b1279a90fac37b40",
            "c4a2c87f446d46d7a3a6d3c218072487",
            "8400edc3c5144720be3785087a0dee53",
            "21aada11ae1744fcbd1004f0ee36045a",
            "e4caef0902c9404682a6a0e31276aca2",
            "b194c26b295d4428bf4a0b4330fe97c2",
            "0f2817789c894e6e876425dceec7bac8",
            "fa4ec1b08b174315a418f7496402cc06",
            "5ce2bffc875b445ea2de32510c686582",
            "29195d1ede2f41cc806743c91c1fa1f5"
          ]
        },
        "outputId": "881b40e8-cb29-4adb-a55d-db6fff934028"
      },
      "source": [
        "accessKey = \"Your Access KEY issued by ETRI\" # API KEY, issued by ETRI #\n",
        "train_morp = get_morp(train, accessKey)\n",
        "test_morp = get_morp(test, accessKey)"
      ],
      "execution_count": null,
      "outputs": [
        {
          "output_type": "stream",
          "text": [
            "/usr/local/lib/python3.6/dist-packages/ipykernel_launcher.py:13: TqdmDeprecationWarning: This function will be removed in tqdm==5.0.0\n",
            "Please use `tqdm.notebook.tqdm` instead of `tqdm.tqdm_notebook`\n",
            "  del sys.path[0]\n"
          ],
          "name": "stderr"
        },
        {
          "output_type": "display_data",
          "data": {
            "application/vnd.jupyter.widget-view+json": {
              "model_id": "69978cd4f5d74eca8546688d20a2f0d6",
              "version_minor": 0,
              "version_major": 2
            },
            "text/plain": [
              "HBox(children=(FloatProgress(value=0.0, max=750.0), HTML(value='')))"
            ]
          },
          "metadata": {
            "tags": []
          }
        },
        {
          "output_type": "stream",
          "text": [
            "\n"
          ],
          "name": "stdout"
        },
        {
          "output_type": "display_data",
          "data": {
            "application/vnd.jupyter.widget-view+json": {
              "model_id": "8400edc3c5144720be3785087a0dee53",
              "version_minor": 0,
              "version_major": 2
            },
            "text/plain": [
              "HBox(children=(FloatProgress(value=0.0, max=250.0), HTML(value='')))"
            ]
          },
          "metadata": {
            "tags": []
          }
        },
        {
          "output_type": "stream",
          "text": [
            "\n"
          ],
          "name": "stdout"
        }
      ]
    },
    {
      "cell_type": "markdown",
      "metadata": {
        "id": "1uHXrA3N-YHQ",
        "colab_type": "text"
      },
      "source": [
        "MAX_LEN 설정을 위해 각 문장 형태소 분석 결과의 길이를 확인합니다.<br>\n",
        "최대 길이가 140이었고, 평균 19였습니다."
      ]
    },
    {
      "cell_type": "code",
      "metadata": {
        "id": "MTQyE_hfRG0o",
        "colab_type": "code",
        "colab": {
          "base_uri": "https://localhost:8080/",
          "height": 337
        },
        "outputId": "65318e0a-665f-4e20-9ba7-8260dbaa79de"
      },
      "source": [
        "import seaborn as sns\n",
        "import matplotlib.pyplot as plt\n",
        "\n",
        "seq_list = [list(map(len, train_morp)), list(map(len, test_morp))]\n",
        "\n",
        "sns.distplot(seq_list[0], label = 'train')\n",
        "sns.distplot(seq_list[1], label = 'test')\n",
        "\n",
        "plt.legend()\n",
        "plt.show()\n",
        "\n",
        "for label, seq in zip(['train','test'],seq_list):\n",
        "  print(\"{} mean length : {}\".format(label, np.mean(seq)))\n",
        "  print(\"{} maximum length : {}\".format(label, np.max(seq)))"
      ],
      "execution_count": null,
      "outputs": [
        {
          "output_type": "display_data",
          "data": {
            "image/png": "[encoded data removed]",
            "text/plain": [
              "<Figure size 432x288 with 1 Axes>"
            ]
          },
          "metadata": {
            "tags": [],
            "needs_background": "light"
          }
        },
        {
          "output_type": "stream",
          "text": [
            "train mean length : 19.353133333333332\n",
            "train maximum length : 140\n",
            "test mean length : 19.4261\n",
            "test maximum length : 116\n"
          ],
          "name": "stdout"
        }
      ]
    },
    {
      "cell_type": "markdown",
      "metadata": {
        "id": "iw3tkHjf8_-f",
        "colab_type": "text"
      },
      "source": [
        "KorBERT input sequence의 max length를 셋팅합니다."
      ]
    },
    {
      "cell_type": "code",
      "metadata": {
        "id": "tZ0it5Ff_LUK",
        "colab_type": "code",
        "colab": {}
      },
      "source": [
        "###token max length###\n",
        "MAX_SEQ = 128"
      ],
      "execution_count": 7,
      "outputs": []
    },
    {
      "cell_type": "markdown",
      "metadata": {
        "id": "nFWExxSM9QiG",
        "colab_type": "text"
      },
      "source": [
        "위에서 정의한 함수들을 이용하여 KorBERT를 위한 데이터셋을 만듭니다"
      ]
    },
    {
      "cell_type": "code",
      "metadata": {
        "id": "lf5udFN7JyGC",
        "colab_type": "code",
        "colab": {
          "base_uri": "https://localhost:8080/",
          "height": 171,
          "referenced_widgets": [
            "30f922c372c840c0b821c6ad55fe7689",
            "cb1e3ea121cc490aab29b639c32a0e33",
            "c9a77491a6544037ba54ab5042a36c1e",
            "04a002ff2b174d9fa2297cd22b9e7d95",
            "b2bea4ab962e4c9bb665849812c60603",
            "627aabb2b2f9472480353444ef4ae007",
            "bf02da3d6072478e8039bdf63233950f",
            "fe254dd8b7b64ba8bfb8652c50a4a7b3",
            "09306850e4cd4e0fb369ee39ccc1f595",
            "176d25f49ac44fe6b29f3ff621736bc7",
            "afe067f613384070bf33917d1093a3f7",
            "e10f4fa7862c43d9b68855c0df9e63c2",
            "3f89be9e49c3498797cf1792a222dbc2",
            "a97166f30a64459da8344d0638f6eff5",
            "6a7b8ee855754a729b60e23e3fb1b4f8",
            "414eb96f112343158ab68014e2b8e011"
          ]
        },
        "outputId": "8ceadbf5-6d15-43c3-f616-fa216f333bed"
      },
      "source": [
        "train_x, train_y = get_dataset(train_morp, train['label'], MAX_SEQ)\n",
        "test_x, test_y = get_dataset(test_morp, test['label'], MAX_SEQ)"
      ],
      "execution_count": null,
      "outputs": [
        {
          "output_type": "stream",
          "text": [
            "/usr/local/lib/python3.6/dist-packages/ipykernel_launcher.py:9: TqdmDeprecationWarning: This function will be removed in tqdm==5.0.0\n",
            "Please use `tqdm.notebook.tqdm` instead of `tqdm.tqdm_notebook`\n",
            "  if __name__ == '__main__':\n"
          ],
          "name": "stderr"
        },
        {
          "output_type": "display_data",
          "data": {
            "application/vnd.jupyter.widget-view+json": {
              "model_id": "30f922c372c840c0b821c6ad55fe7689",
              "version_minor": 0,
              "version_major": 2
            },
            "text/plain": [
              "HBox(children=(FloatProgress(value=0.0, max=150000.0), HTML(value='')))"
            ]
          },
          "metadata": {
            "tags": []
          }
        },
        {
          "output_type": "stream",
          "text": [
            "\n"
          ],
          "name": "stdout"
        },
        {
          "output_type": "display_data",
          "data": {
            "application/vnd.jupyter.widget-view+json": {
              "model_id": "09306850e4cd4e0fb369ee39ccc1f595",
              "version_minor": 0,
              "version_major": 2
            },
            "text/plain": [
              "HBox(children=(FloatProgress(value=0.0, max=50000.0), HTML(value='')))"
            ]
          },
          "metadata": {
            "tags": []
          }
        },
        {
          "output_type": "stream",
          "text": [
            "\n"
          ],
          "name": "stdout"
        }
      ]
    },
    {
      "cell_type": "markdown",
      "metadata": {
        "id": "C1b6xz-W9X3b",
        "colab_type": "text"
      },
      "source": [
        "train/val set으로 분리합니다.<br>\n",
        "negative-positive 비율을 유지하여 분리했습니다(stratify)."
      ]
    },
    {
      "cell_type": "code",
      "metadata": {
        "id": "hrTIIgkU35JW",
        "colab_type": "code",
        "colab": {}
      },
      "source": [
        "from sklearn.model_selection import train_test_split \n",
        "\n",
        "ids_train, masks_train, segments_train = train_x\n",
        "ids_test, masks_test, segments_test = test_x\n",
        "\n",
        "### concatenate train, test.  # of original testset is 50k, which is too many for val set###\n",
        "ids = np.concatenate([ids_train, ids_test], axis = 0)\n",
        "masks = np.concatenate([masks_train, masks_test], axis = 0)\n",
        "segments = np.concatenate([segments_train, segments_test])\n",
        "labels = np.concatenate([train_y, test_y], axis = 0).reshape(-1, 1)\n",
        "\n",
        "\n",
        "X_train = []\n",
        "X_val = []\n",
        "\n",
        "for X in [ids, masks, segments]:\n",
        "  x_train, x_val, y_train, y_val = train_test_split(X, labels, test_size = 0.05 , # 5%(10k) used val set\n",
        "                                                     random_state = 43, \n",
        "                                                    shuffle = True, # Shuffle all the dataset\n",
        "                                                    stratify = labels) # Keep the ratio\n",
        "  X_train.append(x_train)\n",
        "  X_val.append(x_val)\n",
        "###No test dataset. model will be tested using ko_data.csv###"
      ],
      "execution_count": 35,
      "outputs": []
    },
    {
      "cell_type": "code",
      "metadata": {
        "id": "9m0rHp-c36rO",
        "colab_type": "code",
        "colab": {
          "base_uri": "https://localhost:8080/",
          "height": 212
        },
        "outputId": "83780dc5-24cc-4368-ac29-aaf3b7381018"
      },
      "source": [
        "### check the shape of dataset ###\n",
        "print(\"inputs shape :\")\n",
        "for x in X_train + X_val:\n",
        "  print(x.shape)\n",
        "print(\"-\" * 100)\n",
        "print(\"outputs shape :\")\n",
        "y_train = y_train.reshape(-1, 1, 1)\n",
        "y_val = y_val.reshape(-1, 1, 1)\n",
        "for y in [y_train, y_val]:\n",
        "  \n",
        "  print(y.shape)"
      ],
      "execution_count": 36,
      "outputs": [
        {
          "output_type": "stream",
          "text": [
            "inputs shape :\n",
            "(190000, 128)\n",
            "(190000, 128)\n",
            "(190000, 128)\n",
            "(10000, 128)\n",
            "(10000, 128)\n",
            "(10000, 128)\n",
            "----------------------------------------------------------------------------------------------------\n",
            "outputs shape :\n",
            "(190000, 1, 1)\n",
            "(10000, 1, 1)\n"
          ],
          "name": "stdout"
        }
      ]
    },
    {
      "cell_type": "markdown",
      "metadata": {
        "id": "xT2venOo9dAK",
        "colab_type": "text"
      },
      "source": [
        "#4. Model Architecture\n",
        "hyperparameter를 설정하고, 모델을 만듭니다<br>"
      ]
    },
    {
      "cell_type": "code",
      "metadata": {
        "id": "pWH6G6E09ogp",
        "colab_type": "code",
        "colab": {}
      },
      "source": [
        "  BATCH_SIZE = 32\n",
        "LEARNING_RATE = 2e-5\n",
        "MAX_EPOCH = 5 # enough for FINE TUNING\n",
        "DROP_OUT = 0.1\n",
        "LAMD = 1e-4"
      ],
      "execution_count": null,
      "outputs": []
    },
    {
      "cell_type": "markdown",
      "metadata": {
        "id": "VdUsE9KSaBEs",
        "colab_type": "text"
      },
      "source": [
        "binary classification이므로 activation function으로 sigmoid를 이용했습니다."
      ]
    },
    {
      "cell_type": "code",
      "metadata": {
        "id": "p9eK-9WNbviv",
        "colab_type": "code",
        "colab": {}
      },
      "source": [
        "class BertClassify(tf.keras.Model):\n",
        "  def __init__(self, drop_out, lamd):\n",
        "    super(BertClassify, self).__init__()\n",
        "    self.bert = TFBertModel.from_pretrained(ckpt_path, config = bertconfig, from_pt= True) #load parameter \n",
        "    self.dropout = tf.keras.layers.Dropout(drop_out)\n",
        "    self.dense1 = tf.keras.layers.Dense(1, activation = 'sigmoid',\n",
        "                                        kernel_regularizer = tf.keras.regularizers.l2(lamd))  # the task is binary classification, use sigmoid\n",
        "    \n",
        "  def call(self, inputs, training = False):\n",
        "    outputs = self.bert(inputs[0],\n",
        "                        attention_mask = inputs[1], \n",
        "                        token_type_ids = inputs[2],\n",
        "                        training = training)\n",
        "    sequence_output, pooled_output = outputs #TFBertModel returns (seq_output, pooled_output)\n",
        "\n",
        "    x = self.dropout(pooled_output, training = training) #use pooled_output for classification\n",
        "    \n",
        "    logits = self.dense1(x, training = training)\n",
        "\n",
        "    return logits"
      ],
      "execution_count": 38,
      "outputs": []
    },
    {
      "cell_type": "markdown",
      "metadata": {
        "id": "gDiSze4m9tRe",
        "colab_type": "text"
      },
      "source": [
        "#5. Train<br>\n",
        "TPU를 할당받고 모델 학습을 시작합니다."
      ]
    },
    {
      "cell_type": "code",
      "metadata": {
        "id": "s9AmNO1HBAQ1",
        "colab_type": "code",
        "colab": {}
      },
      "source": [
        "### TPU setting ###\n",
        "\n",
        "try:\n",
        "    tpu = tf.distribute.cluster_resolver.TPUClusterResolver()  # TPU detection\n",
        "    print('Running on TPU ', tpu.cluster_spec().as_dict()['worker'])\n",
        "except ValueError:\n",
        "    tpu = None\n",
        "\n",
        "if tpu:\n",
        "    tf.config.experimental_connect_to_cluster(tpu)\n",
        "    tf.tpu.experimental.initialize_tpu_system(tpu)\n",
        "    strategy = tf.distribute.experimental.TPUStrategy(tpu)\n",
        "else:\n",
        "    strategy = tf.distribute.MirroredStrategy()\n",
        "\n",
        "print(\"REPLICAS: \", strategy.num_replicas_in_sync)"
      ],
      "execution_count": null,
      "outputs": []
    },
    {
      "cell_type": "markdown",
      "metadata": {
        "id": "ZfsmdcpGaMYo",
        "colab_type": "text"
      },
      "source": [
        "binary classification이고 model output이 sinlge number이므로 loss 함수로 BinaryCrossentropy를 이용했습니다."
      ]
    },
    {
      "cell_type": "code",
      "metadata": {
        "id": "XorRcqya9C0I",
        "colab_type": "code",
        "colab": {
          "base_uri": "https://localhost:8080/",
          "height": 52
        },
        "outputId": "d5642c45-0d25-447b-ddb1-68613476fe99"
      },
      "source": [
        "input_ids = tf.constant(ids_train[0])[None, :]\n",
        "input_masks = tf.constant(masks_train[0])[None, :]\n",
        "input_segments = tf.constant(segments_train[0])[None, :]\n",
        "inputs_build = [input_ids, input_masks, input_segments] #to build model\n",
        "\n",
        "with strategy.scope():\n",
        "  model = BertClassify(DROP_OUT, LAMD)\n",
        "  optimizer = tf.keras.optimizers.Adam(learning_rate = LEARNING_RATE, epsilon=1e-8)\n",
        "  check_build = model(inputs_build)\n",
        "\n",
        "  model.compile(optimizer = optimizer,\n",
        "              loss = tf.keras.losses.BinaryCrossentropy(),\n",
        "              metrics= ['acc'])\n",
        "  \n",
        "print(\"the shape of model's output : {}\".format(check_build.shape))\n",
        "print(\"the shape of label : {}\".format(y_train[0].shape))"
      ],
      "execution_count": 47,
      "outputs": [
        {
          "output_type": "stream",
          "text": [
            "the shape of model's output : (1, 1)\n",
            "the shape of label : (1, 1)\n"
          ],
          "name": "stdout"
        }
      ]
    },
    {
      "cell_type": "markdown",
      "metadata": {
        "id": "PXj8Ht77aa4m",
        "colab_type": "text"
      },
      "source": [
        "overfitting 지점 직전까지 학습된 weight를 이용하기 위해 callback을 선언합니다"
      ]
    },
    {
      "cell_type": "code",
      "metadata": {
        "id": "Lb6-x7l3LYZf",
        "colab_type": "code",
        "colab": {}
      },
      "source": [
        "cp_callback = tf.keras.callbacks.ModelCheckpoint(nlp_path + 'nsmc_korbert_binary_len128_bestloss.h5',\n",
        "                                                 save_weights_only = True,\n",
        "                                                 save_best_only = True,\n",
        "                                                 monitor = 'val_loss',\n",
        "                                                 model = 'min') #save the best model by val_loss\n",
        "es_callback = tf.keras.callbacks.EarlyStopping(monitor = 'val_loss', patience = 1, restore_best_weights = False)"
      ],
      "execution_count": 48,
      "outputs": []
    },
    {
      "cell_type": "code",
      "metadata": {
        "id": "2SjesoYB9QdE",
        "colab_type": "code",
        "colab": {
          "base_uri": "https://localhost:8080/",
          "height": 123
        },
        "outputId": "db49441c-110b-4a6e-fd2f-052aa067bdab"
      },
      "source": [
        "hist = model.fit(x = X_train,\n",
        "                    y = y_train,\n",
        "                    batch_size = BATCH_SIZE,\n",
        "                    epochs = MAX_EPOCH,\n",
        "                    validation_data = (X_val, y_val),\n",
        "                    validation_batch_size = BATCH_SIZE,\n",
        "                    callbacks = [cp_callback, es_callback])\n",
        "                     \n",
        "model.save_weights(nlp_path + 'nsmc_korbert_binary_len128_last.h5')"
      ],
      "execution_count": 49,
      "outputs": [
        {
          "output_type": "stream",
          "text": [
            "Epoch 1/5\n",
            "5938/5938 [==============================] - 579s 98ms/step - loss: 0.3940 - acc: 0.8310 - val_loss: 0.3445 - val_acc: 0.8552\n",
            "Epoch 2/5\n",
            "5938/5938 [==============================] - 545s 92ms/step - loss: 0.3021 - acc: 0.8725 - val_loss: 0.3277 - val_acc: 0.8604\n",
            "Epoch 3/5\n",
            "5938/5938 [==============================] - 544s 92ms/step - loss: 0.2350 - acc: 0.9010 - val_loss: 0.3324 - val_acc: 0.8605\n"
          ],
          "name": "stdout"
        }
      ]
    },
    {
      "cell_type": "code",
      "metadata": {
        "id": "nariXq5NXZJ6",
        "colab_type": "code",
        "colab": {
          "base_uri": "https://localhost:8080/",
          "height": 606
        },
        "outputId": "99b4f483-8003-4a95-cd51-34e8f1be0df6"
      },
      "source": [
        "    ###check the learnig curves###\n",
        "import matplotlib.pyplot as plt\n",
        "\n",
        "plt.figure(figsize = (10,10))\n",
        "for label in hist.history.keys():\n",
        "  plt.plot(hist.history[label], label = label)\n",
        "  plt.legend(loc = 'best')\n",
        "  plt.title('history of model')"
      ],
      "execution_count": 45,
      "outputs": [
        {
          "output_type": "display_data",
          "data": {
            "image/png": "[encoded data removed]",
            "text/plain": [
              "<Figure size 720x720 with 1 Axes>"
            ]
          },
          "metadata": {
            "tags": [],
            "needs_background": "light"
          }
        }
      ]
    },
    {
      "cell_type": "markdown",
      "metadata": {
        "id": "QZ0iOLLh90Jn",
        "colab_type": "text"
      },
      "source": [
        "#6. Kaggle dataset\n",
        "kaggle dataset도 ETRI API를 이용해 형태소 분석하여 token을 만들고 모델로 predict 합니다"
      ]
    },
    {
      "cell_type": "code",
      "metadata": {
        "id": "fA4R9Xp_hSo8",
        "colab_type": "code",
        "colab": {}
      },
      "source": [
        "###load Kaggle Daata###\n",
        "ko_data = pd.read_csv(nlp_path + \"ko_data.csv\", encoding = 'CP949')\n",
        "answer = pd.read_csv(nlp_path + \"ko_sample.csv\", encoding = 'CP949')"
      ],
      "execution_count": 50,
      "outputs": []
    },
    {
      "cell_type": "code",
      "metadata": {
        "id": "gx7CBOYKhx94",
        "colab_type": "code",
        "colab": {}
      },
      "source": [
        "ko_data.rename(columns = {'Sentence' : 'document'},\n",
        "               inplace = True)"
      ],
      "execution_count": 51,
      "outputs": []
    },
    {
      "cell_type": "code",
      "metadata": {
        "id": "ElGajSJDheGS",
        "colab_type": "code",
        "colab": {
          "base_uri": "https://localhost:8080/",
          "height": 141,
          "referenced_widgets": [
            "dbcae3870ed44896864f23e0b400d7fd",
            "8e16dcac6b4c40d194b02aad842eaad0",
            "717ea25f433d40b8ba79b44efcde345d",
            "7416bf44332049e0803081a0616203d2",
            "bddccaea5511429b949f3291fad681ee",
            "f2b3050a202a4ebf96c4878e773a11c7",
            "cd8998db3dfc4533a0aec828487f3c1c",
            "0f5b4258560b4809927b64a5d5d0bf61"
          ]
        },
        "outputId": "3fc36c4c-ed69-4b64-9d96-18605841695b"
      },
      "source": [
        "data_morp = get_morp(ko_data, accessKey)"
      ],
      "execution_count": null,
      "outputs": [
        {
          "output_type": "stream",
          "text": [
            "/usr/local/lib/python3.6/dist-packages/ipykernel_launcher.py:13: TqdmDeprecationWarning: This function will be removed in tqdm==5.0.0\n",
            "Please use `tqdm.notebook.tqdm` instead of `tqdm.tqdm_notebook`\n",
            "  del sys.path[0]\n"
          ],
          "name": "stderr"
        },
        {
          "output_type": "display_data",
          "data": {
            "application/vnd.jupyter.widget-view+json": {
              "model_id": "dbcae3870ed44896864f23e0b400d7fd",
              "version_minor": 0,
              "version_major": 2
            },
            "text/plain": [
              "HBox(children=(FloatProgress(value=0.0, max=56.0), HTML(value='')))"
            ]
          },
          "metadata": {
            "tags": []
          }
        },
        {
          "output_type": "stream",
          "text": [
            "\n"
          ],
          "name": "stdout"
        }
      ]
    },
    {
      "cell_type": "code",
      "metadata": {
        "id": "ZrsP9a5JiXmE",
        "colab_type": "code",
        "colab": {}
      },
      "source": [
        "test_x, _ = get_dataset(data_morp, train['label'], MAX_SEQ) #don't care train['label']. it's dummy."
      ],
      "execution_count": null,
      "outputs": []
    },
    {
      "cell_type": "markdown",
      "metadata": {
        "id": "uiSsSpw3AOGf",
        "colab_type": "text"
      },
      "source": [
        "val_loss가 가장 낮은 model weight를 불러와 predict하고, submit 양식에 맞게 저장합니다"
      ]
    },
    {
      "cell_type": "code",
      "metadata": {
        "id": "UfwJUld7ZBXG",
        "colab_type": "code",
        "colab": {}
      },
      "source": [
        "model.load_weights(nlp_path + 'nsmc_korbert_binary_len128_last.h5')\n",
        "pred = model.predict(test_x)\n",
        "pred[pred >= 0.5] = 1\n",
        "pred[pred < 0.5 ] = 0\n",
        "answer = pd.read_csv(nlp_path + 'ko_sample.csv', index_col = 'Id')\n",
        "answer['Predicted'] = pd.Series(pred.reshape(-1, ))\n",
        "answer['Predicted'] = answer['Predicted'].astype(int)\n",
        "answer.to_csv(nlp_path + \"submit_nsmc_bestloss{}.csv\".format(datetime.datetime.now().strftime('%Y%m%d%H%M%S')), index = 'Id')"
      ],
      "execution_count": 53,
      "outputs": []
    }
  ]
}